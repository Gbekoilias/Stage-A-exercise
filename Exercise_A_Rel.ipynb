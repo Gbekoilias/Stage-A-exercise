{
 "cells": [
  {
   "cell_type": "code",
   "execution_count": 43,
   "id": "4febea83-b59a-455f-b010-6eef1115d1fc",
   "metadata": {},
   "outputs": [],
   "source": [
    "#import relevant libraries\n",
    "import pandas as pd"
   ]
  },
  {
   "cell_type": "code",
   "execution_count": 44,
   "id": "9e407668-1af1-46cb-be41-18ecd5f0e449",
   "metadata": {},
   "outputs": [],
   "source": [
    "#reading out data files\n",
    "data=pd.read_csv('FoodBalanceSheets_E_Africa_NOFLAG.csv')"
   ]
  },
  {
   "cell_type": "code",
   "execution_count": 45,
   "id": "8e23fc5e-07af-4a52-af96-8913eb5f2019",
   "metadata": {},
   "outputs": [
    {
     "data": {
      "text/plain": [
       "Index(['Area Code', 'Area', 'Item Code', 'Item', 'Element Code', 'Element',\n",
       "       'Unit', 'Y2014', 'Y2015', 'Y2016', 'Y2017', 'Y2018'],\n",
       "      dtype='object')"
      ]
     },
     "execution_count": 45,
     "metadata": {},
     "output_type": "execute_result"
    }
   ],
   "source": [
    "#checking columns\n",
    "data.columns"
   ]
  },
  {
   "cell_type": "code",
   "execution_count": 4,
   "id": "17726705-1613-4c36-8b51-1fe6cf4e3357",
   "metadata": {},
   "outputs": [
    {
     "data": {
      "text/html": [
       "<div>\n",
       "<style scoped>\n",
       "    .dataframe tbody tr th:only-of-type {\n",
       "        vertical-align: middle;\n",
       "    }\n",
       "\n",
       "    .dataframe tbody tr th {\n",
       "        vertical-align: top;\n",
       "    }\n",
       "\n",
       "    .dataframe thead th {\n",
       "        text-align: right;\n",
       "    }\n",
       "</style>\n",
       "<table border=\"1\" class=\"dataframe\">\n",
       "  <thead>\n",
       "    <tr style=\"text-align: right;\">\n",
       "      <th></th>\n",
       "      <th>Area Code</th>\n",
       "      <th>Item Code</th>\n",
       "      <th>Element Code</th>\n",
       "      <th>Y2014</th>\n",
       "      <th>Y2015</th>\n",
       "      <th>Y2016</th>\n",
       "      <th>Y2017</th>\n",
       "      <th>Y2018</th>\n",
       "    </tr>\n",
       "  </thead>\n",
       "  <tbody>\n",
       "    <tr>\n",
       "      <th>count</th>\n",
       "      <td>60943.000000</td>\n",
       "      <td>60943.000000</td>\n",
       "      <td>60943.000000</td>\n",
       "      <td>59354.000000</td>\n",
       "      <td>59395.000000</td>\n",
       "      <td>59408.000000</td>\n",
       "      <td>59437.000000</td>\n",
       "      <td>59507.000000</td>\n",
       "    </tr>\n",
       "    <tr>\n",
       "      <th>mean</th>\n",
       "      <td>134.265576</td>\n",
       "      <td>2687.176706</td>\n",
       "      <td>3814.856456</td>\n",
       "      <td>134.196282</td>\n",
       "      <td>135.235966</td>\n",
       "      <td>136.555222</td>\n",
       "      <td>140.917765</td>\n",
       "      <td>143.758381</td>\n",
       "    </tr>\n",
       "    <tr>\n",
       "      <th>std</th>\n",
       "      <td>72.605709</td>\n",
       "      <td>146.055739</td>\n",
       "      <td>2212.007033</td>\n",
       "      <td>1567.663696</td>\n",
       "      <td>1603.403984</td>\n",
       "      <td>1640.007194</td>\n",
       "      <td>1671.862359</td>\n",
       "      <td>1710.782658</td>\n",
       "    </tr>\n",
       "    <tr>\n",
       "      <th>min</th>\n",
       "      <td>4.000000</td>\n",
       "      <td>2501.000000</td>\n",
       "      <td>511.000000</td>\n",
       "      <td>-1796.000000</td>\n",
       "      <td>-3161.000000</td>\n",
       "      <td>-3225.000000</td>\n",
       "      <td>-1582.000000</td>\n",
       "      <td>-3396.000000</td>\n",
       "    </tr>\n",
       "    <tr>\n",
       "      <th>25%</th>\n",
       "      <td>74.000000</td>\n",
       "      <td>2562.000000</td>\n",
       "      <td>684.000000</td>\n",
       "      <td>0.000000</td>\n",
       "      <td>0.000000</td>\n",
       "      <td>0.000000</td>\n",
       "      <td>0.000000</td>\n",
       "      <td>0.000000</td>\n",
       "    </tr>\n",
       "    <tr>\n",
       "      <th>50%</th>\n",
       "      <td>136.000000</td>\n",
       "      <td>2630.000000</td>\n",
       "      <td>5142.000000</td>\n",
       "      <td>0.090000</td>\n",
       "      <td>0.080000</td>\n",
       "      <td>0.080000</td>\n",
       "      <td>0.100000</td>\n",
       "      <td>0.070000</td>\n",
       "    </tr>\n",
       "    <tr>\n",
       "      <th>75%</th>\n",
       "      <td>195.000000</td>\n",
       "      <td>2775.000000</td>\n",
       "      <td>5511.000000</td>\n",
       "      <td>8.340000</td>\n",
       "      <td>8.460000</td>\n",
       "      <td>8.430000</td>\n",
       "      <td>9.000000</td>\n",
       "      <td>9.000000</td>\n",
       "    </tr>\n",
       "    <tr>\n",
       "      <th>max</th>\n",
       "      <td>276.000000</td>\n",
       "      <td>2961.000000</td>\n",
       "      <td>5911.000000</td>\n",
       "      <td>176405.000000</td>\n",
       "      <td>181137.000000</td>\n",
       "      <td>185960.000000</td>\n",
       "      <td>190873.000000</td>\n",
       "      <td>195875.000000</td>\n",
       "    </tr>\n",
       "  </tbody>\n",
       "</table>\n",
       "</div>"
      ],
      "text/plain": [
       "          Area Code     Item Code  Element Code          Y2014          Y2015  \\\n",
       "count  60943.000000  60943.000000  60943.000000   59354.000000   59395.000000   \n",
       "mean     134.265576   2687.176706   3814.856456     134.196282     135.235966   \n",
       "std       72.605709    146.055739   2212.007033    1567.663696    1603.403984   \n",
       "min        4.000000   2501.000000    511.000000   -1796.000000   -3161.000000   \n",
       "25%       74.000000   2562.000000    684.000000       0.000000       0.000000   \n",
       "50%      136.000000   2630.000000   5142.000000       0.090000       0.080000   \n",
       "75%      195.000000   2775.000000   5511.000000       8.340000       8.460000   \n",
       "max      276.000000   2961.000000   5911.000000  176405.000000  181137.000000   \n",
       "\n",
       "               Y2016          Y2017          Y2018  \n",
       "count   59408.000000   59437.000000   59507.000000  \n",
       "mean      136.555222     140.917765     143.758381  \n",
       "std      1640.007194    1671.862359    1710.782658  \n",
       "min     -3225.000000   -1582.000000   -3396.000000  \n",
       "25%         0.000000       0.000000       0.000000  \n",
       "50%         0.080000       0.100000       0.070000  \n",
       "75%         8.430000       9.000000       9.000000  \n",
       "max    185960.000000  190873.000000  195875.000000  "
      ]
     },
     "execution_count": 4,
     "metadata": {},
     "output_type": "execute_result"
    }
   ],
   "source": [
    "data.describe()"
   ]
  },
  {
   "cell_type": "code",
   "execution_count": 46,
   "id": "071d218a-6af5-4a4c-b582-28a7e61c7791",
   "metadata": {},
   "outputs": [
    {
     "data": {
      "text/html": [
       "<div>\n",
       "<style scoped>\n",
       "    .dataframe tbody tr th:only-of-type {\n",
       "        vertical-align: middle;\n",
       "    }\n",
       "\n",
       "    .dataframe tbody tr th {\n",
       "        vertical-align: top;\n",
       "    }\n",
       "\n",
       "    .dataframe thead th {\n",
       "        text-align: right;\n",
       "    }\n",
       "</style>\n",
       "<table border=\"1\" class=\"dataframe\">\n",
       "  <thead>\n",
       "    <tr style=\"text-align: right;\">\n",
       "      <th></th>\n",
       "      <th>Area Code</th>\n",
       "      <th>Area</th>\n",
       "      <th>Item Code</th>\n",
       "      <th>Item</th>\n",
       "      <th>Element Code</th>\n",
       "      <th>Element</th>\n",
       "      <th>Unit</th>\n",
       "      <th>Y2014</th>\n",
       "      <th>Y2015</th>\n",
       "      <th>Y2016</th>\n",
       "      <th>Y2017</th>\n",
       "      <th>Y2018</th>\n",
       "    </tr>\n",
       "  </thead>\n",
       "  <tbody>\n",
       "    <tr>\n",
       "      <th>0</th>\n",
       "      <td>4</td>\n",
       "      <td>Algeria</td>\n",
       "      <td>2501</td>\n",
       "      <td>Population</td>\n",
       "      <td>511</td>\n",
       "      <td>Total Population - Both sexes</td>\n",
       "      <td>1000 persons</td>\n",
       "      <td>38924.00</td>\n",
       "      <td>39728.00</td>\n",
       "      <td>40551.00</td>\n",
       "      <td>41389.00</td>\n",
       "      <td>42228.00</td>\n",
       "    </tr>\n",
       "    <tr>\n",
       "      <th>1</th>\n",
       "      <td>4</td>\n",
       "      <td>Algeria</td>\n",
       "      <td>2501</td>\n",
       "      <td>Population</td>\n",
       "      <td>5301</td>\n",
       "      <td>Domestic supply quantity</td>\n",
       "      <td>1000 tonnes</td>\n",
       "      <td>0.00</td>\n",
       "      <td>0.00</td>\n",
       "      <td>0.00</td>\n",
       "      <td>0.00</td>\n",
       "      <td>0.00</td>\n",
       "    </tr>\n",
       "    <tr>\n",
       "      <th>2</th>\n",
       "      <td>4</td>\n",
       "      <td>Algeria</td>\n",
       "      <td>2901</td>\n",
       "      <td>Grand Total</td>\n",
       "      <td>664</td>\n",
       "      <td>Food supply (kcal/capita/day)</td>\n",
       "      <td>kcal/capita/day</td>\n",
       "      <td>3377.00</td>\n",
       "      <td>3379.00</td>\n",
       "      <td>3372.00</td>\n",
       "      <td>3341.00</td>\n",
       "      <td>3322.00</td>\n",
       "    </tr>\n",
       "    <tr>\n",
       "      <th>3</th>\n",
       "      <td>4</td>\n",
       "      <td>Algeria</td>\n",
       "      <td>2901</td>\n",
       "      <td>Grand Total</td>\n",
       "      <td>674</td>\n",
       "      <td>Protein supply quantity (g/capita/day)</td>\n",
       "      <td>g/capita/day</td>\n",
       "      <td>94.90</td>\n",
       "      <td>94.35</td>\n",
       "      <td>94.72</td>\n",
       "      <td>92.82</td>\n",
       "      <td>91.83</td>\n",
       "    </tr>\n",
       "    <tr>\n",
       "      <th>4</th>\n",
       "      <td>4</td>\n",
       "      <td>Algeria</td>\n",
       "      <td>2901</td>\n",
       "      <td>Grand Total</td>\n",
       "      <td>684</td>\n",
       "      <td>Fat supply quantity (g/capita/day)</td>\n",
       "      <td>g/capita/day</td>\n",
       "      <td>80.06</td>\n",
       "      <td>79.36</td>\n",
       "      <td>77.40</td>\n",
       "      <td>80.19</td>\n",
       "      <td>77.28</td>\n",
       "    </tr>\n",
       "    <tr>\n",
       "      <th>5</th>\n",
       "      <td>4</td>\n",
       "      <td>Algeria</td>\n",
       "      <td>2903</td>\n",
       "      <td>Vegetal Products</td>\n",
       "      <td>664</td>\n",
       "      <td>Food supply (kcal/capita/day)</td>\n",
       "      <td>kcal/capita/day</td>\n",
       "      <td>2932.00</td>\n",
       "      <td>2958.00</td>\n",
       "      <td>2941.00</td>\n",
       "      <td>2921.00</td>\n",
       "      <td>2932.00</td>\n",
       "    </tr>\n",
       "    <tr>\n",
       "      <th>6</th>\n",
       "      <td>4</td>\n",
       "      <td>Algeria</td>\n",
       "      <td>2903</td>\n",
       "      <td>Vegetal Products</td>\n",
       "      <td>674</td>\n",
       "      <td>Protein supply quantity (g/capita/day)</td>\n",
       "      <td>g/capita/day</td>\n",
       "      <td>67.14</td>\n",
       "      <td>67.38</td>\n",
       "      <td>67.37</td>\n",
       "      <td>66.11</td>\n",
       "      <td>67.10</td>\n",
       "    </tr>\n",
       "  </tbody>\n",
       "</table>\n",
       "</div>"
      ],
      "text/plain": [
       "   Area Code     Area  Item Code              Item  Element Code  \\\n",
       "0          4  Algeria       2501        Population           511   \n",
       "1          4  Algeria       2501        Population          5301   \n",
       "2          4  Algeria       2901       Grand Total           664   \n",
       "3          4  Algeria       2901       Grand Total           674   \n",
       "4          4  Algeria       2901       Grand Total           684   \n",
       "5          4  Algeria       2903  Vegetal Products           664   \n",
       "6          4  Algeria       2903  Vegetal Products           674   \n",
       "\n",
       "                                  Element             Unit     Y2014  \\\n",
       "0           Total Population - Both sexes     1000 persons  38924.00   \n",
       "1                Domestic supply quantity      1000 tonnes      0.00   \n",
       "2           Food supply (kcal/capita/day)  kcal/capita/day   3377.00   \n",
       "3  Protein supply quantity (g/capita/day)     g/capita/day     94.90   \n",
       "4      Fat supply quantity (g/capita/day)     g/capita/day     80.06   \n",
       "5           Food supply (kcal/capita/day)  kcal/capita/day   2932.00   \n",
       "6  Protein supply quantity (g/capita/day)     g/capita/day     67.14   \n",
       "\n",
       "      Y2015     Y2016     Y2017     Y2018  \n",
       "0  39728.00  40551.00  41389.00  42228.00  \n",
       "1      0.00      0.00      0.00      0.00  \n",
       "2   3379.00   3372.00   3341.00   3322.00  \n",
       "3     94.35     94.72     92.82     91.83  \n",
       "4     79.36     77.40     80.19     77.28  \n",
       "5   2958.00   2941.00   2921.00   2932.00  \n",
       "6     67.38     67.37     66.11     67.10  "
      ]
     },
     "execution_count": 46,
     "metadata": {},
     "output_type": "execute_result"
    }
   ],
   "source": [
    "data.head(7)"
   ]
  },
  {
   "cell_type": "markdown",
   "id": "ffb81e3e-2967-4e81-aa61-d7eadb555227",
   "metadata": {},
   "source": [
    "#### What is the total sum of Animal Fat produced in 2014 and 2017 respectively?\n",
    "Hint: Perform a groupby sum aggregration on 'item'"
   ]
  },
  {
   "cell_type": "code",
   "execution_count": 19,
   "id": "af4acb03-6703-4bd6-8042-00c9317bbcea",
   "metadata": {},
   "outputs": [
    {
     "data": {
      "text/plain": [
       "array(['Population', 'Grand Total', 'Vegetal Products', 'Animal Products',\n",
       "       'Cereals - Excluding Beer', 'Wheat and products',\n",
       "       'Rice and products', 'Barley and products', 'Maize and products',\n",
       "       'Rye and products', 'Oats', 'Millet and products',\n",
       "       'Sorghum and products', 'Cereals, Other', 'Starchy Roots',\n",
       "       'Cassava and products', 'Potatoes and products', 'Sweet potatoes',\n",
       "       'Yams', 'Roots, Other', 'Sugar Crops', 'Sugar cane', 'Sugar beet',\n",
       "       'Sugar & Sweeteners', 'Sugar (Raw Equivalent)',\n",
       "       'Sweeteners, Other', 'Honey', 'Pulses', 'Beans', 'Peas',\n",
       "       'Pulses, Other and products', 'Treenuts', 'Nuts and products',\n",
       "       'Oilcrops', 'Soyabeans', 'Groundnuts (Shelled Eq)',\n",
       "       'Sunflower seed', 'Rape and Mustardseed', 'Cottonseed',\n",
       "       'Coconuts - Incl Copra', 'Sesame seed',\n",
       "       'Olives (including preserved)', 'Oilcrops, Other',\n",
       "       'Vegetable Oils', 'Soyabean Oil', 'Groundnut Oil',\n",
       "       'Sunflowerseed Oil', 'Rape and Mustard Oil', 'Cottonseed Oil',\n",
       "       'Palmkernel Oil', 'Palm Oil', 'Coconut Oil', 'Sesameseed Oil',\n",
       "       'Olive Oil', 'Maize Germ Oil', 'Oilcrops Oil, Other', 'Vegetables',\n",
       "       'Tomatoes and products', 'Onions', 'Vegetables, Other',\n",
       "       'Fruits - Excluding Wine', 'Oranges, Mandarines',\n",
       "       'Lemons, Limes and products', 'Grapefruit and products',\n",
       "       'Citrus, Other', 'Bananas', 'Plantains', 'Apples and products',\n",
       "       'Pineapples and products', 'Dates',\n",
       "       'Grapes and products (excl wine)', 'Fruits, Other', 'Stimulants',\n",
       "       'Coffee and products', 'Cocoa Beans and products',\n",
       "       'Tea (including mate)', 'Spices', 'Pepper', 'Pimento', 'Cloves',\n",
       "       'Spices, Other', 'Alcoholic Beverages', 'Wine', 'Beer',\n",
       "       'Beverages, Fermented', 'Beverages, Alcoholic',\n",
       "       'Alcohol, Non-Food', 'Meat', 'Bovine Meat', 'Mutton & Goat Meat',\n",
       "       'Pigmeat', 'Poultry Meat', 'Meat, Other', 'Offals',\n",
       "       'Offals, Edible', 'Animal fats', 'Butter, Ghee', 'Cream',\n",
       "       'Fats, Animals, Raw', 'Fish, Body Oil', 'Fish, Liver Oil', 'Eggs',\n",
       "       'Milk - Excluding Butter', 'Fish, Seafood', 'Freshwater Fish',\n",
       "       'Demersal Fish', 'Pelagic Fish', 'Marine Fish, Other',\n",
       "       'Crustaceans', 'Cephalopods', 'Molluscs, Other',\n",
       "       'Aquatic Products, Other', 'Aquatic Animals, Others',\n",
       "       'Aquatic Plants', 'Miscellaneous', 'Infant food',\n",
       "       'Sugar non-centrifugal', 'Palm kernels', 'Ricebran Oil'],\n",
       "      dtype=object)"
      ]
     },
     "execution_count": 19,
     "metadata": {},
     "output_type": "execute_result"
    }
   ],
   "source": [
    "#check if the animal fat is present in item\n",
    "data['Item'].unique()"
   ]
  },
  {
   "cell_type": "markdown",
   "id": "b0e4d346-8e27-406c-a8ad-761a54a5825e",
   "metadata": {},
   "source": [
    "The Animal fat item is present"
   ]
  },
  {
   "cell_type": "code",
   "execution_count": 22,
   "id": "70bf6358-72f6-460e-b22d-5b789d835a32",
   "metadata": {},
   "outputs": [],
   "source": [
    "#create a dataframe that groupby Item with sum aggregration\n",
    "data1 = data.groupby(by='Item').sum()"
   ]
  },
  {
   "cell_type": "code",
   "execution_count": 23,
   "id": "eb8903b6-97ad-422b-8840-49e5c64332fd",
   "metadata": {},
   "outputs": [
    {
     "data": {
      "text/html": [
       "<div>\n",
       "<style scoped>\n",
       "    .dataframe tbody tr th:only-of-type {\n",
       "        vertical-align: middle;\n",
       "    }\n",
       "\n",
       "    .dataframe tbody tr th {\n",
       "        vertical-align: top;\n",
       "    }\n",
       "\n",
       "    .dataframe thead th {\n",
       "        text-align: right;\n",
       "    }\n",
       "</style>\n",
       "<table border=\"1\" class=\"dataframe\">\n",
       "  <thead>\n",
       "    <tr style=\"text-align: right;\">\n",
       "      <th></th>\n",
       "      <th>Area Code</th>\n",
       "      <th>Item Code</th>\n",
       "      <th>Element Code</th>\n",
       "      <th>Y2014</th>\n",
       "      <th>Y2015</th>\n",
       "      <th>Y2016</th>\n",
       "      <th>Y2017</th>\n",
       "      <th>Y2018</th>\n",
       "    </tr>\n",
       "    <tr>\n",
       "      <th>Item</th>\n",
       "      <th></th>\n",
       "      <th></th>\n",
       "      <th></th>\n",
       "      <th></th>\n",
       "      <th></th>\n",
       "      <th></th>\n",
       "      <th></th>\n",
       "      <th></th>\n",
       "    </tr>\n",
       "  </thead>\n",
       "  <tbody>\n",
       "    <tr>\n",
       "      <th>Alcohol, Non-Food</th>\n",
       "      <td>38447</td>\n",
       "      <td>752497</td>\n",
       "      <td>1515090</td>\n",
       "      <td>2403.00</td>\n",
       "      <td>2180.00</td>\n",
       "      <td>2223.00</td>\n",
       "      <td>2348.00</td>\n",
       "      <td>2293.00</td>\n",
       "    </tr>\n",
       "    <tr>\n",
       "      <th>Alcoholic Beverages</th>\n",
       "      <td>75016</td>\n",
       "      <td>1649136</td>\n",
       "      <td>2171381</td>\n",
       "      <td>102410.11</td>\n",
       "      <td>98783.72</td>\n",
       "      <td>96958.75</td>\n",
       "      <td>95581.06</td>\n",
       "      <td>97847.27</td>\n",
       "    </tr>\n",
       "    <tr>\n",
       "      <th>Animal Products</th>\n",
       "      <td>18060</td>\n",
       "      <td>397035</td>\n",
       "      <td>90990</td>\n",
       "      <td>11935.65</td>\n",
       "      <td>11811.73</td>\n",
       "      <td>11661.69</td>\n",
       "      <td>11547.65</td>\n",
       "      <td>11578.61</td>\n",
       "    </tr>\n",
       "    <tr>\n",
       "      <th>Animal fats</th>\n",
       "      <td>85279</td>\n",
       "      <td>1882494</td>\n",
       "      <td>2567303</td>\n",
       "      <td>209460.54</td>\n",
       "      <td>200675.72</td>\n",
       "      <td>183314.22</td>\n",
       "      <td>269617.53</td>\n",
       "      <td>269648.27</td>\n",
       "    </tr>\n",
       "    <tr>\n",
       "      <th>Apples and products</th>\n",
       "      <td>69280</td>\n",
       "      <td>1352989</td>\n",
       "      <td>1920418</td>\n",
       "      <td>9499.23</td>\n",
       "      <td>10559.15</td>\n",
       "      <td>9853.26</td>\n",
       "      <td>10198.90</td>\n",
       "      <td>9640.51</td>\n",
       "    </tr>\n",
       "  </tbody>\n",
       "</table>\n",
       "</div>"
      ],
      "text/plain": [
       "                     Area Code  Item Code  Element Code      Y2014      Y2015  \\\n",
       "Item                                                                            \n",
       "Alcohol, Non-Food        38447     752497       1515090    2403.00    2180.00   \n",
       "Alcoholic Beverages      75016    1649136       2171381  102410.11   98783.72   \n",
       "Animal Products          18060     397035         90990   11935.65   11811.73   \n",
       "Animal fats              85279    1882494       2567303  209460.54  200675.72   \n",
       "Apples and products      69280    1352989       1920418    9499.23   10559.15   \n",
       "\n",
       "                         Y2016      Y2017      Y2018  \n",
       "Item                                                  \n",
       "Alcohol, Non-Food      2223.00    2348.00    2293.00  \n",
       "Alcoholic Beverages   96958.75   95581.06   97847.27  \n",
       "Animal Products       11661.69   11547.65   11578.61  \n",
       "Animal fats          183314.22  269617.53  269648.27  \n",
       "Apples and products    9853.26   10198.90    9640.51  "
      ]
     },
     "execution_count": 23,
     "metadata": {},
     "output_type": "execute_result"
    }
   ],
   "source": [
    "data1.head()"
   ]
  },
  {
   "cell_type": "markdown",
   "id": "e0589838-926b-43f7-9b1b-e075b6ad9ca9",
   "metadata": {},
   "source": [
    "From the dataframe data1 the sum of Animal fats for Y2014 is 209460.54 while that of Y2017 is 269617.53"
   ]
  },
  {
   "cell_type": "markdown",
   "id": "f72ce88f-c71d-4cdb-91a1-9bca5583b14c",
   "metadata": {},
   "source": [
    "#### What is the mean and the standard deviation across the whole dataset for the year 2015 to 3 decimal places?"
   ]
  },
  {
   "cell_type": "code",
   "execution_count": 35,
   "id": "7c7aa885-a3c8-47b1-9ea0-81dc14a031a8",
   "metadata": {},
   "outputs": [
    {
     "data": {
      "text/plain": [
       "135.23596649549236"
      ]
     },
     "execution_count": 35,
     "metadata": {},
     "output_type": "execute_result"
    }
   ],
   "source": [
    "#finding the mean for the whole dataset for 2015\n",
    "data['Y2015'].mean()"
   ]
  },
  {
   "cell_type": "code",
   "execution_count": 28,
   "id": "2b1f16bf-7d55-43b6-bb3d-900058a6cef0",
   "metadata": {},
   "outputs": [
    {
     "data": {
      "text/plain": [
       "1603.4039839423301"
      ]
     },
     "execution_count": 28,
     "metadata": {},
     "output_type": "execute_result"
    }
   ],
   "source": [
    "#finding the standard deviation for the 2015\n",
    "data['Y2015'].std()"
   ]
  },
  {
   "cell_type": "markdown",
   "id": "6fbd6ddf-6eef-4c4c-a839-6de8c484d369",
   "metadata": {},
   "source": [
    "The mean and the standard deviation is 135.23596649549236 and 1603.4039839423301"
   ]
  },
  {
   "cell_type": "markdown",
   "id": "390a297e-4f60-472c-a3d7-4b60d2c46a73",
   "metadata": {},
   "source": [
    "#### What is the total number and percentage of missing data in 2016 to 2 decimal places?"
   ]
  },
  {
   "cell_type": "code",
   "execution_count": 36,
   "id": "11379340-623c-4e2c-93bb-e76e481cfab5",
   "metadata": {},
   "outputs": [
    {
     "data": {
      "text/plain": [
       "1535"
      ]
     },
     "execution_count": 36,
     "metadata": {},
     "output_type": "execute_result"
    }
   ],
   "source": [
    "#total number of miissing data in 2016\n",
    "data['Y2016'].isnull().sum()"
   ]
  },
  {
   "cell_type": "code",
   "execution_count": 42,
   "id": "a35f04e7-4b35-4f1f-b47e-d7b95e269e56",
   "metadata": {},
   "outputs": [
    {
     "data": {
      "text/plain": [
       "2.583827093994075"
      ]
     },
     "execution_count": 42,
     "metadata": {},
     "output_type": "execute_result"
    }
   ],
   "source": [
    "#To calculate the percentage missing \n",
    "percent_miss_Y2016 = data['Y2016'].isnull().sum()/data['Y2016'].value_counts().sum()\n",
    "percent_miss_Y2016 = percent_miss_Y2016*100\n",
    "percent_miss_Y2016"
   ]
  },
  {
   "cell_type": "markdown",
   "id": "67712ede-47a7-4574-b29c-82d8d3580d34",
   "metadata": {},
   "source": [
    "Total number of missing data is 1535 and percentage is 2.58"
   ]
  },
  {
   "cell_type": "markdown",
   "id": "37665dbf-7e5b-47c4-ae36-dd1bf6760323",
   "metadata": {},
   "source": [
    "#### What is the highest correlation with 'Element Code'?"
   ]
  },
  {
   "cell_type": "code",
   "execution_count": 55,
   "id": "031186db-33d8-4419-990a-d65eeda2ad95",
   "metadata": {},
   "outputs": [
    {
     "data": {
      "text/plain": [
       "Y2014    0.024457\n",
       "Y2015    0.023889\n",
       "Y2016    0.023444\n",
       "Y2017    0.024254\n",
       "Y2018    0.024279\n",
       "Name: Element Code, dtype: float64"
      ]
     },
     "execution_count": 55,
     "metadata": {},
     "output_type": "execute_result"
    }
   ],
   "source": [
    "#to view the corr of all features with 'Element Code'\n",
    "data.corr()['Element Code'][3:]"
   ]
  },
  {
   "cell_type": "markdown",
   "id": "d541ecec-708b-4a96-be0d-a9c159492de2",
   "metadata": {},
   "source": [
    "Y2014 shows the highest correlation with Element Code"
   ]
  },
  {
   "cell_type": "markdown",
   "id": "b77521a9-594b-4dc6-b3dc-00f1c5aa1ae2",
   "metadata": {},
   "source": [
    "#### What year has the highest sum of Import Quantity"
   ]
  },
  {
   "cell_type": "code",
   "execution_count": 56,
   "id": "a636f1cc-6dbc-41dc-ae1b-9755f8eeeb8f",
   "metadata": {},
   "outputs": [
    {
     "data": {
      "text/plain": [
       "array(['Total Population - Both sexes', 'Domestic supply quantity',\n",
       "       'Food supply (kcal/capita/day)',\n",
       "       'Protein supply quantity (g/capita/day)',\n",
       "       'Fat supply quantity (g/capita/day)', 'Production',\n",
       "       'Import Quantity', 'Stock Variation', 'Export Quantity', 'Feed',\n",
       "       'Seed', 'Losses', 'Processing', 'Other uses (non-food)',\n",
       "       'Residuals', 'Food', 'Food supply quantity (kg/capita/yr)',\n",
       "       'Tourist consumption'], dtype=object)"
      ]
     },
     "execution_count": 56,
     "metadata": {},
     "output_type": "execute_result"
    }
   ],
   "source": [
    "# lemme check out the location of Import Quantity\n",
    "data['Element'].unique()"
   ]
  },
  {
   "cell_type": "markdown",
   "id": "6390c9c5-30c2-4827-873a-9477371b1da4",
   "metadata": {},
   "source": [
    "Import Quanity is present"
   ]
  },
  {
   "cell_type": "markdown",
   "id": "a204412c-a05e-42fb-b892-b3f35554c7c1",
   "metadata": {},
   "source": [
    "Hint: Perform a groupby operation on 'Element' and use the resulting dataframe to answer the question "
   ]
  },
  {
   "cell_type": "code",
   "execution_count": 60,
   "id": "7837bbfc-6837-4c72-a6ce-53168d67f811",
   "metadata": {},
   "outputs": [],
   "source": [
    "#crating a dataframe of groupedby element\n",
    "data2 = data.groupby(by = 'Element').sum()"
   ]
  },
  {
   "cell_type": "code",
   "execution_count": 68,
   "id": "9e3b82bc-c259-4abc-88b2-105784056889",
   "metadata": {},
   "outputs": [
    {
     "data": {
      "text/html": [
       "<div>\n",
       "<style scoped>\n",
       "    .dataframe tbody tr th:only-of-type {\n",
       "        vertical-align: middle;\n",
       "    }\n",
       "\n",
       "    .dataframe tbody tr th {\n",
       "        vertical-align: top;\n",
       "    }\n",
       "\n",
       "    .dataframe thead th {\n",
       "        text-align: right;\n",
       "    }\n",
       "</style>\n",
       "<table border=\"1\" class=\"dataframe\">\n",
       "  <thead>\n",
       "    <tr style=\"text-align: right;\">\n",
       "      <th></th>\n",
       "      <th>Y2014</th>\n",
       "      <th>Y2015</th>\n",
       "      <th>Y2016</th>\n",
       "      <th>Y2017</th>\n",
       "      <th>Y2018</th>\n",
       "    </tr>\n",
       "    <tr>\n",
       "      <th>Element</th>\n",
       "      <th></th>\n",
       "      <th></th>\n",
       "      <th></th>\n",
       "      <th></th>\n",
       "      <th></th>\n",
       "    </tr>\n",
       "  </thead>\n",
       "  <tbody>\n",
       "    <tr>\n",
       "      <th>Import Quantity</th>\n",
       "      <td>274144.48</td>\n",
       "      <td>267018.46</td>\n",
       "      <td>286582.78</td>\n",
       "      <td>294559.09</td>\n",
       "      <td>287997.09</td>\n",
       "    </tr>\n",
       "  </tbody>\n",
       "</table>\n",
       "</div>"
      ],
      "text/plain": [
       "                     Y2014      Y2015      Y2016      Y2017      Y2018\n",
       "Element                                                               \n",
       "Import Quantity  274144.48  267018.46  286582.78  294559.09  287997.09"
      ]
     },
     "execution_count": 68,
     "metadata": {},
     "output_type": "execute_result"
    }
   ],
   "source": [
    "data2.iloc[7:8,3:]"
   ]
  },
  {
   "cell_type": "markdown",
   "id": "12ee0503-25bf-41f1-a1b3-69d9df85f0bc",
   "metadata": {},
   "source": [
    "Y2017 has the highest sum of Import Quantity"
   ]
  },
  {
   "cell_type": "markdown",
   "id": "b7d85118-5c7d-4765-8e53-7e51c36f7937",
   "metadata": {},
   "source": [
    "#### What is the total number of the sum of Production in 2014"
   ]
  },
  {
   "cell_type": "markdown",
   "id": "e77138b7-1db1-4407-bbd3-fbf317d88f10",
   "metadata": {},
   "source": [
    "Hint: Perform a groupby operation on 'Element' and use the resulting dataframe to answer the question"
   ]
  },
  {
   "cell_type": "code",
   "execution_count": 69,
   "id": "c87f064e-8a14-4fae-a0bf-79796cbd97a9",
   "metadata": {},
   "outputs": [
    {
     "data": {
      "text/plain": [
       "array(['Total Population - Both sexes', 'Domestic supply quantity',\n",
       "       'Food supply (kcal/capita/day)',\n",
       "       'Protein supply quantity (g/capita/day)',\n",
       "       'Fat supply quantity (g/capita/day)', 'Production',\n",
       "       'Import Quantity', 'Stock Variation', 'Export Quantity', 'Feed',\n",
       "       'Seed', 'Losses', 'Processing', 'Other uses (non-food)',\n",
       "       'Residuals', 'Food', 'Food supply quantity (kg/capita/yr)',\n",
       "       'Tourist consumption'], dtype=object)"
      ]
     },
     "execution_count": 69,
     "metadata": {},
     "output_type": "execute_result"
    }
   ],
   "source": [
    "#check whether the Production is included in Element\n",
    "data['Element'].unique()"
   ]
  },
  {
   "cell_type": "markdown",
   "id": "c06e086b-68e2-40bc-aca3-10adec2d9ba9",
   "metadata": {},
   "source": [
    "Production is present"
   ]
  },
  {
   "cell_type": "code",
   "execution_count": 70,
   "id": "17539db2-d2a4-464c-acb2-814aa97ff31c",
   "metadata": {},
   "outputs": [],
   "source": [
    "#creating a dataframe of grouped by element\n",
    "data3 = data.groupby(by = 'Element').sum()"
   ]
  },
  {
   "cell_type": "code",
   "execution_count": 73,
   "id": "2b0ad1b9-4a76-48ff-b1e7-a69621d5aada",
   "metadata": {},
   "outputs": [
    {
     "data": {
      "text/html": [
       "<div>\n",
       "<style scoped>\n",
       "    .dataframe tbody tr th:only-of-type {\n",
       "        vertical-align: middle;\n",
       "    }\n",
       "\n",
       "    .dataframe tbody tr th {\n",
       "        vertical-align: top;\n",
       "    }\n",
       "\n",
       "    .dataframe thead th {\n",
       "        text-align: right;\n",
       "    }\n",
       "</style>\n",
       "<table border=\"1\" class=\"dataframe\">\n",
       "  <thead>\n",
       "    <tr style=\"text-align: right;\">\n",
       "      <th></th>\n",
       "      <th>Area Code</th>\n",
       "      <th>Item Code</th>\n",
       "      <th>Element Code</th>\n",
       "      <th>Y2014</th>\n",
       "      <th>Y2015</th>\n",
       "      <th>Y2016</th>\n",
       "      <th>Y2017</th>\n",
       "      <th>Y2018</th>\n",
       "    </tr>\n",
       "    <tr>\n",
       "      <th>Element</th>\n",
       "      <th></th>\n",
       "      <th></th>\n",
       "      <th></th>\n",
       "      <th></th>\n",
       "      <th></th>\n",
       "      <th></th>\n",
       "      <th></th>\n",
       "      <th></th>\n",
       "    </tr>\n",
       "  </thead>\n",
       "  <tbody>\n",
       "    <tr>\n",
       "      <th>Production</th>\n",
       "      <td>526751</td>\n",
       "      <td>10450053</td>\n",
       "      <td>21388191</td>\n",
       "      <td>1931287.75</td>\n",
       "      <td>1947019.39</td>\n",
       "      <td>1943537.15</td>\n",
       "      <td>2030056.89</td>\n",
       "      <td>2075072.89</td>\n",
       "    </tr>\n",
       "  </tbody>\n",
       "</table>\n",
       "</div>"
      ],
      "text/plain": [
       "            Area Code  Item Code  Element Code       Y2014       Y2015  \\\n",
       "Element                                                                  \n",
       "Production     526751   10450053      21388191  1931287.75  1947019.39   \n",
       "\n",
       "                 Y2016       Y2017       Y2018  \n",
       "Element                                         \n",
       "Production  1943537.15  2030056.89  2075072.89  "
      ]
     },
     "execution_count": 73,
     "metadata": {},
     "output_type": "execute_result"
    }
   ],
   "source": [
    "data3.iloc[11:12,:]"
   ]
  },
  {
   "cell_type": "markdown",
   "id": "a1e55794-b5a7-497e-a921-bc7fadc53325",
   "metadata": {},
   "source": [
    "Total Production for Y2014 is  1931287.75"
   ]
  },
  {
   "cell_type": "markdown",
   "id": "1452b2b7-a183-4842-a7d6-b7db48f29f6b",
   "metadata": {},
   "source": [
    "#### Which of these elements had the highest sum in 2018?"
   ]
  },
  {
   "cell_type": "markdown",
   "id": "fe882560-f2e2-4719-928e-e89eaa0c054e",
   "metadata": {},
   "source": [
    "Hint: Select columns 'Y2018' and 'Element', Perform a groupby operation on 'Element' on the selected dataframe and answer the question."
   ]
  },
  {
   "cell_type": "code",
   "execution_count": 79,
   "id": "3264fbd2-5e9d-4dba-aee9-4dc95aaf4e34",
   "metadata": {},
   "outputs": [],
   "source": [
    "#Selcting the two columns (Y2018 and Element)\n",
    "data4 = data[['Element','Y2018']]\n",
    "#perform a groupby operation on Element\n",
    "data5 = data4.groupby(by = 'Element').sum()"
   ]
  },
  {
   "cell_type": "code",
   "execution_count": 97,
   "id": "2e6c1106-dec3-4d8a-9755-41dc7b10e761",
   "metadata": {},
   "outputs": [
    {
     "data": {
      "text/html": [
       "<div>\n",
       "<style scoped>\n",
       "    .dataframe tbody tr th:only-of-type {\n",
       "        vertical-align: middle;\n",
       "    }\n",
       "\n",
       "    .dataframe tbody tr th {\n",
       "        vertical-align: top;\n",
       "    }\n",
       "\n",
       "    .dataframe thead th {\n",
       "        text-align: right;\n",
       "    }\n",
       "</style>\n",
       "<table border=\"1\" class=\"dataframe\">\n",
       "  <thead>\n",
       "    <tr style=\"text-align: right;\">\n",
       "      <th></th>\n",
       "      <th>Y2018</th>\n",
       "    </tr>\n",
       "    <tr>\n",
       "      <th>Element</th>\n",
       "      <th></th>\n",
       "    </tr>\n",
       "  </thead>\n",
       "  <tbody>\n",
       "    <tr>\n",
       "      <th>Domestic supply quantity</th>\n",
       "      <td>2161192.1</td>\n",
       "    </tr>\n",
       "  </tbody>\n",
       "</table>\n",
       "</div>"
      ],
      "text/plain": [
       "                              Y2018\n",
       "Element                            \n",
       "Domestic supply quantity  2161192.1"
      ]
     },
     "execution_count": 97,
     "metadata": {},
     "output_type": "execute_result"
    }
   ],
   "source": [
    "data5.sort_values(by = 'Y2018',ascending = False).iloc[:1,:]"
   ]
  },
  {
   "cell_type": "markdown",
   "id": "af4c8af5-27b4-4b7d-aca2-95f4953fb571",
   "metadata": {},
   "source": [
    "Domestic supply quantity has the highest sum in 2018"
   ]
  },
  {
   "cell_type": "markdown",
   "id": "ec828a04-ce6a-4d61-88d7-615207e6b08e",
   "metadata": {},
   "source": [
    "#### Which of these elements has the 3rd lowest sum in 2018?"
   ]
  },
  {
   "cell_type": "markdown",
   "id": "552a9e59-1c14-4728-b1c7-95afbc05248d",
   "metadata": {},
   "source": [
    "Hint: Select columns 'Y2018' and 'Element', Perform a groupby operation on 'Element' on the selected dataframe and answer the question."
   ]
  },
  {
   "cell_type": "code",
   "execution_count": 98,
   "id": "9336c072-b3d0-497a-89b4-08e254a254d5",
   "metadata": {},
   "outputs": [
    {
     "data": {
      "text/html": [
       "<div>\n",
       "<style scoped>\n",
       "    .dataframe tbody tr th:only-of-type {\n",
       "        vertical-align: middle;\n",
       "    }\n",
       "\n",
       "    .dataframe tbody tr th {\n",
       "        vertical-align: top;\n",
       "    }\n",
       "\n",
       "    .dataframe thead th {\n",
       "        text-align: right;\n",
       "    }\n",
       "</style>\n",
       "<table border=\"1\" class=\"dataframe\">\n",
       "  <thead>\n",
       "    <tr style=\"text-align: right;\">\n",
       "      <th></th>\n",
       "      <th>Y2018</th>\n",
       "    </tr>\n",
       "    <tr>\n",
       "      <th>Element</th>\n",
       "      <th></th>\n",
       "    </tr>\n",
       "  </thead>\n",
       "  <tbody>\n",
       "    <tr>\n",
       "      <th>Domestic supply quantity</th>\n",
       "      <td>2161192.1</td>\n",
       "    </tr>\n",
       "    <tr>\n",
       "      <th>Export Quantity</th>\n",
       "      <td>181594.8</td>\n",
       "    </tr>\n",
       "  </tbody>\n",
       "</table>\n",
       "</div>"
      ],
      "text/plain": [
       "                              Y2018\n",
       "Element                            \n",
       "Domestic supply quantity  2161192.1\n",
       "Export Quantity            181594.8"
      ]
     },
     "execution_count": 98,
     "metadata": {},
     "output_type": "execute_result"
    }
   ],
   "source": [
    "#since i already have a dataframe done for that \n",
    "#recalling the data frame \n",
    "data5.head(2)"
   ]
  },
  {
   "cell_type": "code",
   "execution_count": 104,
   "id": "55cd2682-90a7-4391-979c-912827b33c87",
   "metadata": {},
   "outputs": [
    {
     "data": {
      "text/html": [
       "<div>\n",
       "<style scoped>\n",
       "    .dataframe tbody tr th:only-of-type {\n",
       "        vertical-align: middle;\n",
       "    }\n",
       "\n",
       "    .dataframe tbody tr th {\n",
       "        vertical-align: top;\n",
       "    }\n",
       "\n",
       "    .dataframe thead th {\n",
       "        text-align: right;\n",
       "    }\n",
       "</style>\n",
       "<table border=\"1\" class=\"dataframe\">\n",
       "  <thead>\n",
       "    <tr style=\"text-align: right;\">\n",
       "      <th></th>\n",
       "      <th>Y2018</th>\n",
       "    </tr>\n",
       "    <tr>\n",
       "      <th>Element</th>\n",
       "      <th></th>\n",
       "    </tr>\n",
       "  </thead>\n",
       "  <tbody>\n",
       "    <tr>\n",
       "      <th>Tourist consumption</th>\n",
       "      <td>90.00</td>\n",
       "    </tr>\n",
       "    <tr>\n",
       "      <th>Fat supply quantity (g/capita/day)</th>\n",
       "      <td>10258.69</td>\n",
       "    </tr>\n",
       "    <tr>\n",
       "      <th>Protein supply quantity (g/capita/day)</th>\n",
       "      <td>11833.56</td>\n",
       "    </tr>\n",
       "    <tr>\n",
       "      <th>Stock Variation</th>\n",
       "      <td>20577.91</td>\n",
       "    </tr>\n",
       "    <tr>\n",
       "      <th>Seed</th>\n",
       "      <td>25263.14</td>\n",
       "    </tr>\n",
       "    <tr>\n",
       "      <th>Residuals</th>\n",
       "      <td>34864.00</td>\n",
       "    </tr>\n",
       "    <tr>\n",
       "      <th>Food supply quantity (kg/capita/yr)</th>\n",
       "      <td>49056.85</td>\n",
       "    </tr>\n",
       "    <tr>\n",
       "      <th>Other uses (non-food)</th>\n",
       "      <td>91300.97</td>\n",
       "    </tr>\n",
       "    <tr>\n",
       "      <th>Losses</th>\n",
       "      <td>163902.00</td>\n",
       "    </tr>\n",
       "    <tr>\n",
       "      <th>Export Quantity</th>\n",
       "      <td>181594.80</td>\n",
       "    </tr>\n",
       "    <tr>\n",
       "      <th>Feed</th>\n",
       "      <td>233489.68</td>\n",
       "    </tr>\n",
       "    <tr>\n",
       "      <th>Import Quantity</th>\n",
       "      <td>287997.09</td>\n",
       "    </tr>\n",
       "    <tr>\n",
       "      <th>Processing</th>\n",
       "      <td>308429.00</td>\n",
       "    </tr>\n",
       "    <tr>\n",
       "      <th>Food supply (kcal/capita/day)</th>\n",
       "      <td>455261.00</td>\n",
       "    </tr>\n",
       "    <tr>\n",
       "      <th>Total Population - Both sexes</th>\n",
       "      <td>1140605.00</td>\n",
       "    </tr>\n",
       "    <tr>\n",
       "      <th>Food</th>\n",
       "      <td>1303841.28</td>\n",
       "    </tr>\n",
       "    <tr>\n",
       "      <th>Production</th>\n",
       "      <td>2075072.89</td>\n",
       "    </tr>\n",
       "    <tr>\n",
       "      <th>Domestic supply quantity</th>\n",
       "      <td>2161192.10</td>\n",
       "    </tr>\n",
       "  </tbody>\n",
       "</table>\n",
       "</div>"
      ],
      "text/plain": [
       "                                             Y2018\n",
       "Element                                           \n",
       "Tourist consumption                          90.00\n",
       "Fat supply quantity (g/capita/day)        10258.69\n",
       "Protein supply quantity (g/capita/day)    11833.56\n",
       "Stock Variation                           20577.91\n",
       "Seed                                      25263.14\n",
       "Residuals                                 34864.00\n",
       "Food supply quantity (kg/capita/yr)       49056.85\n",
       "Other uses (non-food)                     91300.97\n",
       "Losses                                   163902.00\n",
       "Export Quantity                          181594.80\n",
       "Feed                                     233489.68\n",
       "Import Quantity                          287997.09\n",
       "Processing                               308429.00\n",
       "Food supply (kcal/capita/day)            455261.00\n",
       "Total Population - Both sexes           1140605.00\n",
       "Food                                    1303841.28\n",
       "Production                              2075072.89\n",
       "Domestic supply quantity                2161192.10"
      ]
     },
     "execution_count": 104,
     "metadata": {},
     "output_type": "execute_result"
    }
   ],
   "source": [
    "data5.sort_values(by = 'Y2018',ascending = True)"
   ]
  },
  {
   "cell_type": "markdown",
   "id": "351233c4-1f1f-47f7-ac5b-b50a7da73393",
   "metadata": {},
   "source": [
    "Protein supply quantity (g/capita/day) has the 3rd lowest sum in Y2018"
   ]
  },
  {
   "cell_type": "markdown",
   "id": "b7e749e8-e0a2-435d-a3ee-335158fb4b6e",
   "metadata": {},
   "source": [
    "#### What is the total Import Quantity in Algeria in 2018 "
   ]
  },
  {
   "cell_type": "code",
   "execution_count": 145,
   "id": "7944490c-af55-4b14-aadf-2db14aa1a32a",
   "metadata": {},
   "outputs": [
    {
     "data": {
      "text/plain": [
       "Area Code                                                     448\n",
       "Area            AlgeriaAlgeriaAlgeriaAlgeriaAlgeriaAlgeriaAlge...\n",
       "Item Code                                                  301030\n",
       "Item            Cereals - Excluding BeerWheat and productsRice...\n",
       "Element Code                                               628432\n",
       "Element         Import QuantityImport QuantityImport QuantityI...\n",
       "Unit            1000 tonnes1000 tonnes1000 tonnes1000 tonnes10...\n",
       "Y2014                                                    34940.12\n",
       "Y2015                                                    37841.91\n",
       "Y2016                                                    36736.08\n",
       "Y2017                                                    36059.29\n",
       "Y2018                                                    36238.29\n",
       "dtype: object"
      ]
     },
     "execution_count": 145,
     "metadata": {},
     "output_type": "execute_result"
    }
   ],
   "source": [
    "data[data['Element']=='Import Quantity'].loc[data['Area']=='Algeria'].sum()"
   ]
  },
  {
   "cell_type": "markdown",
   "id": "aefa006a-6a63-4e41-b269-9c2dee09be3f",
   "metadata": {},
   "source": [
    "The total Import Quantity in Algeria in 2018 is 36238.29"
   ]
  },
  {
   "cell_type": "markdown",
   "id": "3abbaf26-3d17-416d-a6ce-3d705a2b64c5",
   "metadata": {},
   "source": [
    "#### What is the total number of the unique countries in the dataset"
   ]
  },
  {
   "cell_type": "code",
   "execution_count": 129,
   "id": "b3d660d0-c918-4845-a74c-6add034a7561",
   "metadata": {},
   "outputs": [
    {
     "data": {
      "text/plain": [
       "array(['Algeria', 'Angola', 'Benin', 'Botswana', 'Burkina Faso',\n",
       "       'Cabo Verde', 'Cameroon', 'Central African Republic', 'Chad',\n",
       "       'Comoros', 'Congo', \"C�te d'Ivoire\", 'Djibouti', 'Egypt',\n",
       "       'Eswatini', 'Ethiopia', 'Ethiopia PDR', 'Gabon', 'Gambia', 'Ghana',\n",
       "       'Guinea', 'Guinea-Bissau', 'Kenya', 'Lesotho', 'Liberia',\n",
       "       'Madagascar', 'Malawi', 'Mali', 'Mauritania', 'Mauritius',\n",
       "       'Morocco', 'Mozambique', 'Namibia', 'Niger', 'Nigeria', 'Rwanda',\n",
       "       'Sao Tome and Principe', 'Senegal', 'Seychelles', 'Sierra Leone',\n",
       "       'South Africa', 'Sudan', 'Sudan (former)', 'Togo', 'Tunisia',\n",
       "       'Uganda', 'United Republic of Tanzania', 'Zambia', 'Zimbabwe'],\n",
       "      dtype=object)"
      ]
     },
     "execution_count": 129,
     "metadata": {},
     "output_type": "execute_result"
    }
   ],
   "source": [
    "data['Area'].unique()"
   ]
  },
  {
   "cell_type": "code",
   "execution_count": 130,
   "id": "80a9f1e1-2792-4cab-a356-f73b2c1f7c74",
   "metadata": {},
   "outputs": [
    {
     "data": {
      "text/plain": [
       "49"
      ]
     },
     "execution_count": 130,
     "metadata": {},
     "output_type": "execute_result"
    }
   ],
   "source": [
    "data['Area'].nunique()"
   ]
  },
  {
   "cell_type": "markdown",
   "id": "a9ee37c3-a6b8-4909-9cf1-7164cab5516b",
   "metadata": {},
   "source": [
    "There 49 unique countries in the dataset"
   ]
  }
 ],
 "metadata": {
  "kernelspec": {
   "display_name": "Python 3",
   "language": "python",
   "name": "python3"
  },
  "language_info": {
   "codemirror_mode": {
    "name": "ipython",
    "version": 3
   },
   "file_extension": ".py",
   "mimetype": "text/x-python",
   "name": "python",
   "nbconvert_exporter": "python",
   "pygments_lexer": "ipython3",
   "version": "3.8.8"
  }
 },
 "nbformat": 4,
 "nbformat_minor": 5
}
